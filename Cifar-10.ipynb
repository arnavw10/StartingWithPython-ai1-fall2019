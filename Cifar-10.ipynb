{
  "nbformat": 4,
  "nbformat_minor": 0,
  "metadata": {
    "kernelspec": {
      "display_name": "Python 3",
      "language": "python",
      "name": "python3"
    },
    "language_info": {
      "codemirror_mode": {
        "name": "ipython",
        "version": 3
      },
      "file_extension": ".py",
      "mimetype": "text/x-python",
      "name": "python",
      "nbconvert_exporter": "python",
      "pygments_lexer": "ipython3",
      "version": "3.6.8"
    },
    "colab": {
      "name": "Cifar-10.ipynb",
      "provenance": [],
      "include_colab_link": true
    }
  },
  "cells": [
    {
      "cell_type": "markdown",
      "metadata": {
        "id": "view-in-github",
        "colab_type": "text"
      },
      "source": [
        "<a href=\"https://colab.research.google.com/github/arnavw10/StartingWithPython-ai1-fall2019/blob/master/Cifar-10.ipynb\" target=\"_parent\"><img src=\"https://colab.research.google.com/assets/colab-badge.svg\" alt=\"Open In Colab\"/></a>"
      ]
    },
    {
      "cell_type": "code",
      "metadata": {
        "id": "tH1dCVIrSTMK",
        "colab_type": "code",
        "colab": {}
      },
      "source": [
        "%matplotlib inline\n",
        "import numpy as np # imports a fast numerical programming library\n",
        "import scipy as sp # imports a statistical programming library\n",
        "import matplotlib as mpl # imports the standard plotting library\n",
        "import matplotlib.cm as cm # imports plotting colormaps\n",
        "import matplotlib.pyplot as plt # imports the MATLAB compatible plotting API"
      ],
      "execution_count": 0,
      "outputs": []
    },
    {
      "cell_type": "markdown",
      "metadata": {
        "id": "jLCgC6VFSTMV",
        "colab_type": "text"
      },
      "source": [
        "## Lists\n",
        "\n",
        "Python indexes start at 0."
      ]
    },
    {
      "cell_type": "code",
      "metadata": {
        "id": "pwPQBVItSTMX",
        "colab_type": "code",
        "colab": {
          "base_uri": "https://localhost:8080/",
          "height": 50
        },
        "outputId": "1847dbdb-a1d6-48d9-d477-af20447d97ba"
      },
      "source": [
        "float_list = [1., 3., 5., 4., 2.]\n",
        "print(float_list[1:5])\n",
        "print(float_list[0:2])"
      ],
      "execution_count": 3,
      "outputs": [
        {
          "output_type": "stream",
          "text": [
            "[3.0, 5.0, 4.0, 2.0]\n",
            "[1.0, 3.0]\n"
          ],
          "name": "stdout"
        }
      ]
    },
    {
      "cell_type": "code",
      "metadata": {
        "id": "zOfRd3b2STMe",
        "colab_type": "code",
        "colab": {
          "base_uri": "https://localhost:8080/",
          "height": 33
        },
        "outputId": "7eadf4ae-033d-4c94-a6d4-d40eabb24b6a"
      },
      "source": [
        "float_list[-1]"
      ],
      "execution_count": 4,
      "outputs": [
        {
          "output_type": "execute_result",
          "data": {
            "text/plain": [
              "2.0"
            ]
          },
          "metadata": {
            "tags": []
          },
          "execution_count": 4
        }
      ]
    },
    {
      "cell_type": "markdown",
      "metadata": {
        "id": "_3jwQR5XSTMm",
        "colab_type": "text"
      },
      "source": [
        "Here is a key for some of the indexing operations:\n",
        "\n",
        "![](https://github.com/arnavw10/StartingWithPython-ai1-fall2019/blob/master/images/ops3_v2.png?raw=1)\n",
        "\n",
        "We can iterate through a list using a loop. Here's a for loop."
      ]
    },
    {
      "cell_type": "code",
      "metadata": {
        "id": "1KrY5bQLSTMo",
        "colab_type": "code",
        "colab": {
          "base_uri": "https://localhost:8080/",
          "height": 100
        },
        "outputId": "92c5ebdd-a38c-462d-e86d-10bdb6177783"
      },
      "source": [
        "for ele in float_list:\n",
        "    print(ele)"
      ],
      "execution_count": 5,
      "outputs": [
        {
          "output_type": "stream",
          "text": [
            "1.0\n",
            "3.0\n",
            "5.0\n",
            "4.0\n",
            "2.0\n"
          ],
          "name": "stdout"
        }
      ]
    },
    {
      "cell_type": "code",
      "metadata": {
        "id": "3MQqXNvKSTMu",
        "colab_type": "code",
        "colab": {
          "base_uri": "https://localhost:8080/",
          "height": 100
        },
        "outputId": "d72f9899-efa2-4e65-bac1-9b14a46bb399"
      },
      "source": [
        "for i, ele in enumerate(float_list):\n",
        "    print(i,ele)"
      ],
      "execution_count": 6,
      "outputs": [
        {
          "output_type": "stream",
          "text": [
            "0 1.0\n",
            "1 3.0\n",
            "2 5.0\n",
            "3 4.0\n",
            "4 2.0\n"
          ],
          "name": "stdout"
        }
      ]
    },
    {
      "cell_type": "markdown",
      "metadata": {
        "id": "hJeTIuqWSTM0",
        "colab_type": "text"
      },
      "source": [
        "Lists can be constructed in a compact way using a list comprehension. Here's a simple example."
      ]
    },
    {
      "cell_type": "code",
      "metadata": {
        "id": "3Q555NILSTM2",
        "colab_type": "code",
        "colab": {},
        "outputId": "22181156-1fd8-408d-b5e9-d784d6b43ca2"
      },
      "source": [
        "squaredlist = [i*i for i in float_list]\n",
        "squaredlist"
      ],
      "execution_count": 0,
      "outputs": [
        {
          "output_type": "execute_result",
          "data": {
            "text/plain": [
              "[1.0, 9.0, 25.0, 16.0, 4.0]"
            ]
          },
          "metadata": {
            "tags": []
          },
          "execution_count": 17
        }
      ]
    },
    {
      "cell_type": "code",
      "metadata": {
        "id": "ld_4CkuWSTM8",
        "colab_type": "code",
        "colab": {},
        "outputId": "ac2d137b-e5c5-401a-cbbc-8f16ac2d2258"
      },
      "source": [
        "comp_list1 = [2*i for i in squaredlist if i % 2 == 0]\n",
        "print(comp_list1)"
      ],
      "execution_count": 0,
      "outputs": [
        {
          "output_type": "stream",
          "text": [
            "[32.0, 8.0]\n"
          ],
          "name": "stdout"
        }
      ]
    },
    {
      "cell_type": "markdown",
      "metadata": {
        "id": "Nigl7eUMSTNC",
        "colab_type": "text"
      },
      "source": [
        "## Functions\n",
        "\n",
        "A *function* object is a reusable block of code that does a specific task.  Functions are all over Python, either on their own or on other objects.  To invoke a function `func`, you call it as `func(arguments)`.\n",
        "\n",
        "We've seen built-in Python functions and methods.  For example, `len` and `print` are built-in Python functions.  Last time we called `np.mean` to calculate the mean of three numbers, where `mean` is a function in the numpy module and numpy was abbreviated as `np`. This syntax allow us to have multiple \"mean\" functions in different modules; calling this one as `np.mean` guarantees that we will pick up numpy's mean function, as opposed to a mean function from a different module.\n",
        "\n",
        "### Methods\n",
        "A function that belongs to an object is called a *method*. An example of this is `append` on an existing list. In other words, a *method* is a function on an *instance* of a type of object (also called *class*, in this case, list type)."
      ]
    },
    {
      "cell_type": "code",
      "metadata": {
        "id": "iSwpBTAqSTND",
        "colab_type": "code",
        "colab": {},
        "outputId": "a3f3133e-7b8c-4f5a-9cc1-21bd5a42bd57"
      },
      "source": [
        "import numpy as np # imports a fast numerical programming library\n",
        "np.mean([1, 2, 3, 4, 5])"
      ],
      "execution_count": 0,
      "outputs": [
        {
          "output_type": "execute_result",
          "data": {
            "text/plain": [
              "3.0"
            ]
          },
          "metadata": {
            "tags": []
          },
          "execution_count": 48
        }
      ]
    },
    {
      "cell_type": "code",
      "metadata": {
        "id": "C4i_7Q6mSTNJ",
        "colab_type": "code",
        "colab": {},
        "outputId": "b667054c-0171-4d23-8ba0-1b02e9447feb"
      },
      "source": [
        "float_list = [1.0, 2.09, 4.0, 2.0, 0.444]\n",
        "print(float_list)\n",
        "float_list.append(56.7) \n",
        "float_list"
      ],
      "execution_count": 0,
      "outputs": [
        {
          "output_type": "stream",
          "text": [
            "[1.0, 2.09, 4.0, 2.0, 0.444]\n"
          ],
          "name": "stdout"
        },
        {
          "output_type": "execute_result",
          "data": {
            "text/plain": [
              "[1.0, 2.09, 4.0, 2.0, 0.444, 56.7]"
            ]
          },
          "metadata": {
            "tags": []
          },
          "execution_count": 49
        }
      ]
    },
    {
      "cell_type": "markdown",
      "metadata": {
        "id": "-QRq22ljSTNO",
        "colab_type": "text"
      },
      "source": [
        "### User-defined functions\n",
        "\n",
        "We'll now learn to write our own user-defined functions.  Below is the syntax for defining a basic function with one input argument and one output. You can also define functions with no input or output arguments, or multiple input or output arguments.\n",
        "\n",
        "```\n",
        "def name_of_function(arg):\n",
        "    ...\n",
        "    return(output)\n",
        "```\n",
        "\n",
        "We can write functions with one input and one output argument.  Here are two such functions."
      ]
    },
    {
      "cell_type": "code",
      "metadata": {
        "id": "QeJzp3LOSTNP",
        "colab_type": "code",
        "colab": {},
        "outputId": "01d08fe3-0ad0-4ae8-9295-2e1dafe05b6c"
      },
      "source": [
        "def square(x):\n",
        "    x_sqr = x*x\n",
        "    return(x_sqr)\n",
        "\n",
        "def cube(x):\n",
        "    x_cub = x*x*x\n",
        "    return(x_cub)\n",
        "\n",
        "square(5),cube(5)"
      ],
      "execution_count": 0,
      "outputs": [
        {
          "output_type": "execute_result",
          "data": {
            "text/plain": [
              "(25, 125)"
            ]
          },
          "metadata": {
            "tags": []
          },
          "execution_count": 4
        }
      ]
    },
    {
      "cell_type": "markdown",
      "metadata": {
        "id": "59CSr4CjSTNT",
        "colab_type": "text"
      },
      "source": [
        "### Lambda functions\n",
        "\n",
        "Often we quickly define mathematical functions with a one-line function called a *lambda* function.  Lambda functions are great because they enable us to write functions without having to name them, ie, they're *anonymous*.  \n",
        "No return statement is needed. \n"
      ]
    },
    {
      "cell_type": "code",
      "metadata": {
        "id": "sFUabaMeSTNU",
        "colab_type": "code",
        "colab": {
          "base_uri": "https://localhost:8080/",
          "height": 50
        },
        "outputId": "31151339-23fa-4922-899c-22a1618fddf0"
      },
      "source": [
        "square = lambda x: x*x\n",
        "print(square(3))\n",
        "\n",
        "\n",
        "hypotenuse = lambda x, y: x*x + y*y\n",
        "\n",
        "## Same as\n",
        "\n",
        "# def hypotenuse(x, y):\n",
        "#     return(x*x + y*y)\n",
        "\n",
        "hypotenuse(3,4)"
      ],
      "execution_count": 7,
      "outputs": [
        {
          "output_type": "stream",
          "text": [
            "9\n"
          ],
          "name": "stdout"
        },
        {
          "output_type": "execute_result",
          "data": {
            "text/plain": [
              "25"
            ]
          },
          "metadata": {
            "tags": []
          },
          "execution_count": 7
        }
      ]
    },
    {
      "cell_type": "markdown",
      "metadata": {
        "id": "iFWVHPH5STNX",
        "colab_type": "text"
      },
      "source": [
        "### Default Arguments\n",
        "\n",
        "Functions may also have *default* argument values.  Functions with default values are used extensively in many libraries.  The default values are assigned when the function is defined."
      ]
    },
    {
      "cell_type": "code",
      "metadata": {
        "id": "MgTrcqb9STNX",
        "colab_type": "code",
        "colab": {
          "base_uri": "https://localhost:8080/",
          "height": 50
        },
        "outputId": "fd2b0e84-12d9-49bb-aab1-58f53fdbb69c"
      },
      "source": [
        "# This function can be called with x and y, in which case it will return x*y;\n",
        "# or it can be called with x only, in which case it will return x*1.\n",
        "def get_multiple(x, y=1):\n",
        "    return x, y, x*y\n",
        "\n",
        "print(\"With x and y:\", get_multiple(10, 2))\n",
        "print(\"With x only:\", get_multiple(10))"
      ],
      "execution_count": 8,
      "outputs": [
        {
          "output_type": "stream",
          "text": [
            "With x and y: (10, 2, 20)\n",
            "With x only: (10, 1, 10)\n"
          ],
          "name": "stdout"
        }
      ]
    },
    {
      "cell_type": "code",
      "metadata": {
        "id": "fOgY5VJESTNa",
        "colab_type": "code",
        "colab": {
          "base_uri": "https://localhost:8080/",
          "height": 33
        },
        "outputId": "348e9da6-ac5a-4850-8846-adb89e564561"
      },
      "source": [
        "get_multiple(x=3), get_multiple(x=3, y=4)"
      ],
      "execution_count": 9,
      "outputs": [
        {
          "output_type": "execute_result",
          "data": {
            "text/plain": [
              "((3, 1, 3), (3, 4, 12))"
            ]
          },
          "metadata": {
            "tags": []
          },
          "execution_count": 9
        }
      ]
    },
    {
      "cell_type": "code",
      "metadata": {
        "id": "1vIWGvoUSTNd",
        "colab_type": "code",
        "colab": {
          "base_uri": "https://localhost:8080/",
          "height": 33
        },
        "outputId": "c915ba56-ec8e-412a-c884-ed1dc83ec1ad"
      },
      "source": [
        "get_multiple(y=4, x=3), get_multiple(3, y=4)"
      ],
      "execution_count": 10,
      "outputs": [
        {
          "output_type": "execute_result",
          "data": {
            "text/plain": [
              "((3, 4, 12), (3, 4, 12))"
            ]
          },
          "metadata": {
            "tags": []
          },
          "execution_count": 10
        }
      ]
    },
    {
      "cell_type": "code",
      "metadata": {
        "id": "gjZPcaBkSTNf",
        "colab_type": "code",
        "colab": {
          "base_uri": "https://localhost:8080/",
          "height": 128
        },
        "outputId": "2285e9b7-efab-4ff8-9199-40c4067ba695"
      },
      "source": [
        "get_multiple(y=4, 3)"
      ],
      "execution_count": 11,
      "outputs": [
        {
          "output_type": "error",
          "ename": "SyntaxError",
          "evalue": "ignored",
          "traceback": [
            "\u001b[0;36m  File \u001b[0;32m\"<ipython-input-11-e773096e795e>\"\u001b[0;36m, line \u001b[0;32m1\u001b[0m\n\u001b[0;31m    get_multiple(y=4, 3)\u001b[0m\n\u001b[0m                     ^\u001b[0m\n\u001b[0;31mSyntaxError\u001b[0m\u001b[0;31m:\u001b[0m positional argument follows keyword argument\n"
          ]
        }
      ]
    },
    {
      "cell_type": "markdown",
      "metadata": {
        "id": "w3eeI1VkSTNh",
        "colab_type": "text"
      },
      "source": [
        "## Numpy"
      ]
    },
    {
      "cell_type": "markdown",
      "metadata": {
        "id": "vOxhA2PDSTNi",
        "colab_type": "text"
      },
      "source": [
        "Scientific Python code uses a fast array structure, called the numpy array. Those who have worked in Matlab will find this very natural.   For reference, the numpy documention can be found [here](https://docs.scipy.org/doc/numpy/reference/).  \n",
        "\n",
        "Let's make a numpy array."
      ]
    },
    {
      "cell_type": "code",
      "metadata": {
        "id": "oMKZP2NbSTNj",
        "colab_type": "code",
        "colab": {
          "base_uri": "https://localhost:8080/",
          "height": 33
        },
        "outputId": "185114cf-b702-434f-ae61-ab0b1d04b938"
      },
      "source": [
        "my_array = np.array([1, 2, 3, 4])\n",
        "my_array"
      ],
      "execution_count": 12,
      "outputs": [
        {
          "output_type": "execute_result",
          "data": {
            "text/plain": [
              "array([1, 2, 3, 4])"
            ]
          },
          "metadata": {
            "tags": []
          },
          "execution_count": 12
        }
      ]
    },
    {
      "cell_type": "markdown",
      "metadata": {
        "id": "jTUFwwRpSTNl",
        "colab_type": "text"
      },
      "source": [
        "**In general you should manipulate numpy arrays by using numpy module functions** (`np.mean`, for example). This is for efficiency purposes, and a discussion follows below this section.\n",
        "\n",
        "You can calculate the mean of the array elements either by calling the method `.mean` on a numpy array or by applying the function np.mean with the numpy array as an argument."
      ]
    },
    {
      "cell_type": "code",
      "metadata": {
        "id": "2WRtrnSISTNm",
        "colab_type": "code",
        "colab": {
          "base_uri": "https://localhost:8080/",
          "height": 50
        },
        "outputId": "ada33404-827d-4acf-f974-6945fa00cfb7"
      },
      "source": [
        "print(my_array.mean())\n",
        "print(np.mean(my_array))"
      ],
      "execution_count": 13,
      "outputs": [
        {
          "output_type": "stream",
          "text": [
            "2.5\n",
            "2.5\n"
          ],
          "name": "stdout"
        }
      ]
    },
    {
      "cell_type": "markdown",
      "metadata": {
        "id": "Q0ff6WrhSTNo",
        "colab_type": "text"
      },
      "source": [
        "The way we constructed the numpy array above seems redundant..after all we already had a regular python list. Indeed, it is the other ways we have to construct numpy arrays that make them super useful. \n",
        "\n",
        "There are many such numpy array *constructors*. Here are some commonly used constructors. Look them up in the documentation."
      ]
    },
    {
      "cell_type": "code",
      "metadata": {
        "id": "DiZWkhIrSTNr",
        "colab_type": "code",
        "colab": {
          "base_uri": "https://localhost:8080/",
          "height": 33
        },
        "outputId": "c60eadc8-6285-44a8-828d-406eb959e4b4"
      },
      "source": [
        "np.ones(10) # generates 10 floating point ones"
      ],
      "execution_count": 14,
      "outputs": [
        {
          "output_type": "execute_result",
          "data": {
            "text/plain": [
              "array([1., 1., 1., 1., 1., 1., 1., 1., 1., 1.])"
            ]
          },
          "metadata": {
            "tags": []
          },
          "execution_count": 14
        }
      ]
    },
    {
      "cell_type": "code",
      "metadata": {
        "id": "kcD6VcnUSTNu",
        "colab_type": "code",
        "colab": {
          "base_uri": "https://localhost:8080/",
          "height": 33
        },
        "outputId": "38794f30-af69-4702-dce6-a372d2aa6c5b"
      },
      "source": [
        "np.dtype(float).itemsize # in bytes"
      ],
      "execution_count": 15,
      "outputs": [
        {
          "output_type": "execute_result",
          "data": {
            "text/plain": [
              "8"
            ]
          },
          "metadata": {
            "tags": []
          },
          "execution_count": 15
        }
      ]
    },
    {
      "cell_type": "code",
      "metadata": {
        "id": "lNDvsjS3STNx",
        "colab_type": "code",
        "colab": {
          "base_uri": "https://localhost:8080/",
          "height": 33
        },
        "outputId": "b98e3f36-5515-46c6-f931-f26afcf30da3"
      },
      "source": [
        "np.zeros(10)"
      ],
      "execution_count": 16,
      "outputs": [
        {
          "output_type": "execute_result",
          "data": {
            "text/plain": [
              "array([0., 0., 0., 0., 0., 0., 0., 0., 0., 0.])"
            ]
          },
          "metadata": {
            "tags": []
          },
          "execution_count": 16
        }
      ]
    },
    {
      "cell_type": "markdown",
      "metadata": {
        "id": "7a7qAfN1STNz",
        "colab_type": "text"
      },
      "source": [
        "#### Numpy supports vector operations\n",
        "\n",
        "What does this mean? It means that instead of adding two arrays, element by element, you can just say: add the two arrays. Note that this behavior is very different from python lists."
      ]
    },
    {
      "cell_type": "code",
      "metadata": {
        "id": "es0t5tKRSTNz",
        "colab_type": "code",
        "colab": {
          "base_uri": "https://localhost:8080/",
          "height": 33
        },
        "outputId": "f74dc483-b089-46ca-817c-7fb255db8963"
      },
      "source": [
        "first = np.ones(5)\n",
        "second = np.ones(5)\n",
        "first + second"
      ],
      "execution_count": 17,
      "outputs": [
        {
          "output_type": "execute_result",
          "data": {
            "text/plain": [
              "array([2., 2., 2., 2., 2.])"
            ]
          },
          "metadata": {
            "tags": []
          },
          "execution_count": 17
        }
      ]
    },
    {
      "cell_type": "code",
      "metadata": {
        "id": "IIdm6eveSTN2",
        "colab_type": "code",
        "colab": {
          "base_uri": "https://localhost:8080/",
          "height": 33
        },
        "outputId": "19497218-21ea-4175-cd29-e2c2b76f686f"
      },
      "source": [
        "first_list = [1., 1., 1., 1., 1.]\n",
        "second_list = [1., 1., 1., 1., 1.]\n",
        "first_list + second_list #not what u want"
      ],
      "execution_count": 18,
      "outputs": [
        {
          "output_type": "execute_result",
          "data": {
            "text/plain": [
              "[1.0, 1.0, 1.0, 1.0, 1.0, 1.0, 1.0, 1.0, 1.0, 1.0]"
            ]
          },
          "metadata": {
            "tags": []
          },
          "execution_count": 18
        }
      ]
    },
    {
      "cell_type": "markdown",
      "metadata": {
        "id": "MqKKytPdSTN4",
        "colab_type": "text"
      },
      "source": [
        "On some computer chips this addition actually happens in parallel, so speedups can be high. But even on regular chips, the advantage of greater readability is important."
      ]
    },
    {
      "cell_type": "markdown",
      "metadata": {
        "id": "eckB7pDKSTN4",
        "colab_type": "text"
      },
      "source": [
        "Numpy supports a concept known as *broadcasting*, which dictates how arrays of different sizes are combined together. There are too many rules to list here, but importantly, multiplying an array by a number multiplies each element by the number. Adding a number adds the number to each element."
      ]
    },
    {
      "cell_type": "code",
      "metadata": {
        "id": "T_M_izGWSTN5",
        "colab_type": "code",
        "colab": {
          "base_uri": "https://localhost:8080/",
          "height": 33
        },
        "outputId": "2bf60938-a9cf-4077-a718-59f1f55be79f"
      },
      "source": [
        "first + 1"
      ],
      "execution_count": 19,
      "outputs": [
        {
          "output_type": "execute_result",
          "data": {
            "text/plain": [
              "array([2., 2., 2., 2., 2.])"
            ]
          },
          "metadata": {
            "tags": []
          },
          "execution_count": 19
        }
      ]
    },
    {
      "cell_type": "markdown",
      "metadata": {
        "id": "r7WIoWllSTN7",
        "colab_type": "text"
      },
      "source": [
        "Broadcasting and vectorized operations are used throughout numpy. Suppose you wanted points on the line $$y = 4x + 3$$ between 0 and 1. Here's how:"
      ]
    },
    {
      "cell_type": "code",
      "metadata": {
        "id": "W-4hD-C7STN8",
        "colab_type": "code",
        "colab": {}
      },
      "source": [
        "f = lambda x: 4*x + 3"
      ],
      "execution_count": 0,
      "outputs": []
    },
    {
      "cell_type": "code",
      "metadata": {
        "id": "_IqlaLzbSTN9",
        "colab_type": "code",
        "colab": {
          "base_uri": "https://localhost:8080/",
          "height": 351
        },
        "outputId": "13091725-594e-4c26-d91c-1d1ca667d3e2"
      },
      "source": [
        "x = np.linspace(0,1, 100)\n",
        "x"
      ],
      "execution_count": 21,
      "outputs": [
        {
          "output_type": "execute_result",
          "data": {
            "text/plain": [
              "array([0.        , 0.01010101, 0.02020202, 0.03030303, 0.04040404,\n",
              "       0.05050505, 0.06060606, 0.07070707, 0.08080808, 0.09090909,\n",
              "       0.1010101 , 0.11111111, 0.12121212, 0.13131313, 0.14141414,\n",
              "       0.15151515, 0.16161616, 0.17171717, 0.18181818, 0.19191919,\n",
              "       0.2020202 , 0.21212121, 0.22222222, 0.23232323, 0.24242424,\n",
              "       0.25252525, 0.26262626, 0.27272727, 0.28282828, 0.29292929,\n",
              "       0.3030303 , 0.31313131, 0.32323232, 0.33333333, 0.34343434,\n",
              "       0.35353535, 0.36363636, 0.37373737, 0.38383838, 0.39393939,\n",
              "       0.4040404 , 0.41414141, 0.42424242, 0.43434343, 0.44444444,\n",
              "       0.45454545, 0.46464646, 0.47474747, 0.48484848, 0.49494949,\n",
              "       0.50505051, 0.51515152, 0.52525253, 0.53535354, 0.54545455,\n",
              "       0.55555556, 0.56565657, 0.57575758, 0.58585859, 0.5959596 ,\n",
              "       0.60606061, 0.61616162, 0.62626263, 0.63636364, 0.64646465,\n",
              "       0.65656566, 0.66666667, 0.67676768, 0.68686869, 0.6969697 ,\n",
              "       0.70707071, 0.71717172, 0.72727273, 0.73737374, 0.74747475,\n",
              "       0.75757576, 0.76767677, 0.77777778, 0.78787879, 0.7979798 ,\n",
              "       0.80808081, 0.81818182, 0.82828283, 0.83838384, 0.84848485,\n",
              "       0.85858586, 0.86868687, 0.87878788, 0.88888889, 0.8989899 ,\n",
              "       0.90909091, 0.91919192, 0.92929293, 0.93939394, 0.94949495,\n",
              "       0.95959596, 0.96969697, 0.97979798, 0.98989899, 1.        ])"
            ]
          },
          "metadata": {
            "tags": []
          },
          "execution_count": 21
        }
      ]
    },
    {
      "cell_type": "code",
      "metadata": {
        "id": "oI_rq-pzSTOA",
        "colab_type": "code",
        "colab": {
          "base_uri": "https://localhost:8080/",
          "height": 33
        },
        "outputId": "7c69606e-565d-4047-a703-d8ded5bb0ff4"
      },
      "source": [
        "x = np.arange(0,1,0.1)\n",
        "x"
      ],
      "execution_count": 22,
      "outputs": [
        {
          "output_type": "execute_result",
          "data": {
            "text/plain": [
              "array([0. , 0.1, 0.2, 0.3, 0.4, 0.5, 0.6, 0.7, 0.8, 0.9])"
            ]
          },
          "metadata": {
            "tags": []
          },
          "execution_count": 22
        }
      ]
    },
    {
      "cell_type": "code",
      "metadata": {
        "id": "hQ4PwYlBSTOD",
        "colab_type": "code",
        "colab": {
          "base_uri": "https://localhost:8080/",
          "height": 33
        },
        "outputId": "6a28829c-3e55-44ef-9328-7eaa835f0deb"
      },
      "source": [
        "f(x) # operates vectorially"
      ],
      "execution_count": 23,
      "outputs": [
        {
          "output_type": "execute_result",
          "data": {
            "text/plain": [
              "array([3. , 3.4, 3.8, 4.2, 4.6, 5. , 5.4, 5.8, 6.2, 6.6])"
            ]
          },
          "metadata": {
            "tags": []
          },
          "execution_count": 23
        }
      ]
    },
    {
      "cell_type": "markdown",
      "metadata": {
        "id": "hJ3b8ilkSTOF",
        "colab_type": "text"
      },
      "source": [
        "We can plot these against each other"
      ]
    },
    {
      "cell_type": "code",
      "metadata": {
        "id": "UaHJq9AzSTOG",
        "colab_type": "code",
        "colab": {
          "base_uri": "https://localhost:8080/",
          "height": 312
        },
        "outputId": "df6599f5-f5c0-41e5-9635-30cd02a58bc3"
      },
      "source": [
        "plt.plot(x, f(x), '+-', alpha=0.3)\n",
        "plt.xlim([0.1,0.9])\n",
        "plt.xlabel(\"x\")\n",
        "plt.ylabel(\"y\")\n",
        "plt.title(\"line\")"
      ],
      "execution_count": 27,
      "outputs": [
        {
          "output_type": "execute_result",
          "data": {
            "text/plain": [
              "Text(0.5, 1.0, 'line')"
            ]
          },
          "metadata": {
            "tags": []
          },
          "execution_count": 27
        },
        {
          "output_type": "display_data",
          "data": {
            "image/png": "[encoded data removed]",
            "text/plain": [
              "<Figure size 432x288 with 1 Axes>"
            ]
          },
          "metadata": {
            "tags": []
          }
        }
      ]
    },
    {
      "cell_type": "markdown",
      "metadata": {
        "id": "C3Dnq-h-STOI",
        "colab_type": "text"
      },
      "source": [
        "### 2D arrays\n",
        "Similarly, we can create two-dimensional arrays."
      ]
    },
    {
      "cell_type": "code",
      "metadata": {
        "id": "5RGGvnzWSTOJ",
        "colab_type": "code",
        "colab": {
          "base_uri": "https://localhost:8080/",
          "height": 67
        },
        "outputId": "008f2b59-eb39-411b-9458-9d6c56320967"
      },
      "source": [
        "my_array2d = np.array([ [1, 2, 3, 4], [5, 6, 7, 8], [9, 10, 11, 12] ])\n",
        "print(my_array2d)"
      ],
      "execution_count": 28,
      "outputs": [
        {
          "output_type": "stream",
          "text": [
            "[[ 1  2  3  4]\n",
            " [ 5  6  7  8]\n",
            " [ 9 10 11 12]]\n"
          ],
          "name": "stdout"
        }
      ]
    },
    {
      "cell_type": "code",
      "metadata": {
        "id": "J7vVbBDYSTOM",
        "colab_type": "code",
        "colab": {
          "base_uri": "https://localhost:8080/",
          "height": 33
        },
        "outputId": "df81d814-e60f-4fd4-92e4-aacc251ffafe"
      },
      "source": [
        "my_array2d.shape"
      ],
      "execution_count": 29,
      "outputs": [
        {
          "output_type": "execute_result",
          "data": {
            "text/plain": [
              "(3, 4)"
            ]
          },
          "metadata": {
            "tags": []
          },
          "execution_count": 29
        }
      ]
    },
    {
      "cell_type": "code",
      "metadata": {
        "id": "aM63jOmpSTOQ",
        "colab_type": "code",
        "colab": {
          "base_uri": "https://localhost:8080/",
          "height": 33
        },
        "outputId": "43c37bc2-a195-4263-f802-1c2f2a4d4c9f"
      },
      "source": [
        "my_array2d[2, 3]"
      ],
      "execution_count": 30,
      "outputs": [
        {
          "output_type": "execute_result",
          "data": {
            "text/plain": [
              "12"
            ]
          },
          "metadata": {
            "tags": []
          },
          "execution_count": 30
        }
      ]
    },
    {
      "cell_type": "markdown",
      "metadata": {
        "id": "YG183FtPSTOT",
        "colab_type": "text"
      },
      "source": [
        "![](https://github.com/arnavw10/StartingWithPython-ai1-fall2019/blob/master/images/numpyarrayindexing.png?raw=1)\n",
        "\n",
        ">Our convention for identifying cells in a 3D block will be to start in the near, upper-left corner. We name cells in the order (away, down, right). (a) The three directions in sequence. (b) Finding a cell in a 3D volume. The first index tells us how far to move away, the second index how far to move down, and the third index how far to move right.\n",
        "\n",
        "From Glassner, Andrew. Deep Learning, Vol. 2"
      ]
    },
    {
      "cell_type": "code",
      "metadata": {
        "id": "y7p1szjNSTOV",
        "colab_type": "code",
        "colab": {
          "base_uri": "https://localhost:8080/",
          "height": 33
        },
        "outputId": "c50eb1be-d222-4496-c8af-238d65e6e1d0"
      },
      "source": [
        "#downward\n",
        "my_array2d[0], my_array2d[1]"
      ],
      "execution_count": 32,
      "outputs": [
        {
          "output_type": "execute_result",
          "data": {
            "text/plain": [
              "(array([1, 2, 3, 4]), array([5, 6, 7, 8]))"
            ]
          },
          "metadata": {
            "tags": []
          },
          "execution_count": 32
        }
      ]
    },
    {
      "cell_type": "code",
      "metadata": {
        "id": "AO20mxSqSTOX",
        "colab_type": "code",
        "colab": {
          "base_uri": "https://localhost:8080/",
          "height": 33
        },
        "outputId": "0cca5c87-c7a8-4a83-a76f-684c4aa8aeb8"
      },
      "source": [
        "np.sum(my_array2d, axis=0)"
      ],
      "execution_count": 33,
      "outputs": [
        {
          "output_type": "execute_result",
          "data": {
            "text/plain": [
              "array([15, 18, 21, 24])"
            ]
          },
          "metadata": {
            "tags": []
          },
          "execution_count": 33
        }
      ]
    },
    {
      "cell_type": "code",
      "metadata": {
        "id": "souW2nsOSTOZ",
        "colab_type": "code",
        "colab": {
          "base_uri": "https://localhost:8080/",
          "height": 33
        },
        "outputId": "9b5d137e-272f-4369-94e7-8f0a805e11a2"
      },
      "source": [
        "np.sum(my_array2d, axis=1)"
      ],
      "execution_count": 34,
      "outputs": [
        {
          "output_type": "execute_result",
          "data": {
            "text/plain": [
              "array([10, 26, 42])"
            ]
          },
          "metadata": {
            "tags": []
          },
          "execution_count": 34
        }
      ]
    },
    {
      "cell_type": "code",
      "metadata": {
        "id": "lwdaEOkMSTOb",
        "colab_type": "code",
        "colab": {
          "base_uri": "https://localhost:8080/",
          "height": 67
        },
        "outputId": "e863c4b9-33aa-4b17-fda1-c57559f3e8d0"
      },
      "source": [
        "# 3 x 4 array of ones\n",
        "ones_2d = np.ones([3, 4])\n",
        "print(ones_2d)"
      ],
      "execution_count": 35,
      "outputs": [
        {
          "output_type": "stream",
          "text": [
            "[[1. 1. 1. 1.]\n",
            " [1. 1. 1. 1.]\n",
            " [1. 1. 1. 1.]]\n"
          ],
          "name": "stdout"
        }
      ]
    },
    {
      "cell_type": "code",
      "metadata": {
        "id": "Xj5JW5CHSTOd",
        "colab_type": "code",
        "colab": {
          "base_uri": "https://localhost:8080/",
          "height": 67
        },
        "outputId": "e3401a3c-eccd-44c7-f746-8fdc35342ad8"
      },
      "source": [
        "# 3 x 3 identity matrix\n",
        "my_identity = np.eye(3)\n",
        "print(my_identity)"
      ],
      "execution_count": 36,
      "outputs": [
        {
          "output_type": "stream",
          "text": [
            "[[1. 0. 0.]\n",
            " [0. 1. 0.]\n",
            " [0. 0. 1.]]\n"
          ],
          "name": "stdout"
        }
      ]
    },
    {
      "cell_type": "markdown",
      "metadata": {
        "id": "NlgTKrt-STOf",
        "colab_type": "text"
      },
      "source": [
        "An often seen idiom allocates a two-dimensional array, and then fills in one-dimensional arrays from some function:"
      ]
    },
    {
      "cell_type": "code",
      "metadata": {
        "id": "X36vfqjjSTOf",
        "colab_type": "code",
        "colab": {
          "base_uri": "https://localhost:8080/",
          "height": 100
        },
        "outputId": "5f762139-e361-47c0-8b7f-7ed7fef3706d"
      },
      "source": [
        "twod = np.zeros((5, 2))\n",
        "twod"
      ],
      "execution_count": 37,
      "outputs": [
        {
          "output_type": "execute_result",
          "data": {
            "text/plain": [
              "array([[0., 0.],\n",
              "       [0., 0.],\n",
              "       [0., 0.],\n",
              "       [0., 0.],\n",
              "       [0., 0.]])"
            ]
          },
          "metadata": {
            "tags": []
          },
          "execution_count": 37
        }
      ]
    },
    {
      "cell_type": "code",
      "metadata": {
        "id": "O6pm9eRaSTOh",
        "colab_type": "code",
        "colab": {
          "base_uri": "https://localhost:8080/",
          "height": 100
        },
        "outputId": "ff926c8f-ff74-4948-f52c-5b013da2c018"
      },
      "source": [
        "for i in range(twod.shape[0]):\n",
        "    twod[i, :] = np.random.random(2)\n",
        "twod"
      ],
      "execution_count": 39,
      "outputs": [
        {
          "output_type": "execute_result",
          "data": {
            "text/plain": [
              "array([[0.2338571 , 0.57141289],\n",
              "       [0.54075221, 0.33711087],\n",
              "       [0.94217972, 0.14667343],\n",
              "       [0.34385345, 0.72752829],\n",
              "       [0.60184485, 0.40040281]])"
            ]
          },
          "metadata": {
            "tags": []
          },
          "execution_count": 39
        }
      ]
    },
    {
      "cell_type": "markdown",
      "metadata": {
        "id": "gnI6QMbnSTOj",
        "colab_type": "text"
      },
      "source": [
        "## Images\n",
        "\n",
        "Lets generalize from 2D to 3D, to cover an image with channels, and then a dataset of many images. (cifar-10)"
      ]
    },
    {
      "cell_type": "code",
      "metadata": {
        "id": "OCdWlKy-STOj",
        "colab_type": "code",
        "colab": {
          "base_uri": "https://localhost:8080/",
          "height": 67
        },
        "outputId": "a1f54f99-1e2b-4ffe-f67f-239beaf51ae9"
      },
      "source": [
        "from keras.datasets import cifar10\n",
        "(x_train, y_train), (x_test, y_test) = cifar10.load_data()"
      ],
      "execution_count": 40,
      "outputs": [
        {
          "output_type": "stream",
          "text": [
            "Using TensorFlow backend.\n"
          ],
          "name": "stderr"
        },
        {
          "output_type": "stream",
          "text": [
            "Downloading data from https://www.cs.toronto.edu/~kriz/cifar-10-python.tar.gz\n",
            "170500096/170498071 [==============================] - 7s 0us/step\n"
          ],
          "name": "stdout"
        }
      ]
    },
    {
      "cell_type": "markdown",
      "metadata": {
        "id": "HafSTA_NSTOo",
        "colab_type": "text"
      },
      "source": [
        "![](https://github.com/arnavw10/StartingWithPython-ai1-fall2019/blob/master/images/cifar-snapshot.png?raw=1)"
      ]
    },
    {
      "cell_type": "code",
      "metadata": {
        "id": "pLj3aG5bSTOo",
        "colab_type": "code",
        "colab": {}
      },
      "source": [
        "class_names = ['airplane', 'automobile', 'bird', 'cat', 'deer',\n",
        "               'dog', 'frog', 'horse', 'ship', 'truck']"
      ],
      "execution_count": 0,
      "outputs": []
    },
    {
      "cell_type": "code",
      "metadata": {
        "id": "ELaXh0nwSTOq",
        "colab_type": "code",
        "colab": {
          "base_uri": "https://localhost:8080/",
          "height": 33
        },
        "outputId": "550549cf-2e36-476d-facf-fccec964490b"
      },
      "source": [
        "type(x_train)"
      ],
      "execution_count": 42,
      "outputs": [
        {
          "output_type": "execute_result",
          "data": {
            "text/plain": [
              "numpy.ndarray"
            ]
          },
          "metadata": {
            "tags": []
          },
          "execution_count": 42
        }
      ]
    },
    {
      "cell_type": "markdown",
      "metadata": {
        "id": "7_Bz45hTSTOr",
        "colab_type": "text"
      },
      "source": [
        "As seen above, we go depth first, so the images are stacked deep"
      ]
    },
    {
      "cell_type": "code",
      "metadata": {
        "id": "1j2UK-wvSTOt",
        "colab_type": "code",
        "colab": {
          "base_uri": "https://localhost:8080/",
          "height": 33
        },
        "outputId": "263d62be-f2c9-419f-de19-ace575bcd748"
      },
      "source": [
        "x_train.shape"
      ],
      "execution_count": 43,
      "outputs": [
        {
          "output_type": "execute_result",
          "data": {
            "text/plain": [
              "(50000, 32, 32, 3)"
            ]
          },
          "metadata": {
            "tags": []
          },
          "execution_count": 43
        }
      ]
    },
    {
      "cell_type": "markdown",
      "metadata": {
        "id": "V_3Kx9IbSTOw",
        "colab_type": "text"
      },
      "source": [
        "![](https://github.com/arnavw10/StartingWithPython-ai1-fall2019/blob/master/images/imagestacking.png?raw=1)"
      ]
    },
    {
      "cell_type": "markdown",
      "metadata": {
        "id": "K18og3YJSTOx",
        "colab_type": "text"
      },
      "source": [
        "in cifar-10 each image actually has 3 channels. So its not images we are stacking, but image tensors. The channels can be arranged in 2 ways.."
      ]
    },
    {
      "cell_type": "code",
      "metadata": {
        "id": "H97_RNtESTOx",
        "colab_type": "code",
        "colab": {
          "base_uri": "https://localhost:8080/",
          "height": 33
        },
        "outputId": "08969d64-1176-4228-c3b0-359c9a2c415c"
      },
      "source": [
        "x_train[0].shape"
      ],
      "execution_count": 46,
      "outputs": [
        {
          "output_type": "execute_result",
          "data": {
            "text/plain": [
              "(32, 32, 3)"
            ]
          },
          "metadata": {
            "tags": []
          },
          "execution_count": 46
        }
      ]
    },
    {
      "cell_type": "markdown",
      "metadata": {
        "id": "iI3WweOgSTOz",
        "colab_type": "text"
      },
      "source": [
        "![](https://github.com/arnavw10/StartingWithPython-ai1-fall2019/blob/master/images/giraffechannels.png?raw=1)\n",
        "\n",
        ">Two ways to stack images of size 100 wide by 200 high. We read the sizes of the blocks by the number of layers going away, then down, then right. (a) Stacking images from front to back. This block has dimensions 3 by 200 by 100. This is the channels_first organization. (b) Stacking images from left to right. This block has dimensions 200 by 100 by 3. This is the channels_last organization.\n",
        "\n",
        "From Glassner, Andrew. Deep Learning, Vol. 2"
      ]
    },
    {
      "cell_type": "code",
      "metadata": {
        "id": "I5Rv9EsISTO0",
        "colab_type": "code",
        "colab": {
          "base_uri": "https://localhost:8080/",
          "height": 33
        },
        "outputId": "b54fb8bc-9a5c-4ad2-e074-f5c8432730aa"
      },
      "source": [
        "x_train[0][:,:,0].shape"
      ],
      "execution_count": 47,
      "outputs": [
        {
          "output_type": "execute_result",
          "data": {
            "text/plain": [
              "(32, 32)"
            ]
          },
          "metadata": {
            "tags": []
          },
          "execution_count": 47
        }
      ]
    },
    {
      "cell_type": "code",
      "metadata": {
        "id": "y4efc__JSTO1",
        "colab_type": "code",
        "colab": {
          "base_uri": "https://localhost:8080/",
          "height": 33
        },
        "outputId": "c783c199-d49d-4565-a74d-47bee4a1dc7b"
      },
      "source": [
        "y_train.shape"
      ],
      "execution_count": 48,
      "outputs": [
        {
          "output_type": "execute_result",
          "data": {
            "text/plain": [
              "(50000, 1)"
            ]
          },
          "metadata": {
            "tags": []
          },
          "execution_count": 48
        }
      ]
    },
    {
      "cell_type": "code",
      "metadata": {
        "id": "g0ulCccuSTO3",
        "colab_type": "code",
        "colab": {
          "base_uri": "https://localhost:8080/",
          "height": 33
        },
        "outputId": "05bd5056-a4b0-40c9-d447-82c3739a8ed8"
      },
      "source": [
        "y_train[0].shape"
      ],
      "execution_count": 49,
      "outputs": [
        {
          "output_type": "execute_result",
          "data": {
            "text/plain": [
              "(1,)"
            ]
          },
          "metadata": {
            "tags": []
          },
          "execution_count": 49
        }
      ]
    },
    {
      "cell_type": "code",
      "metadata": {
        "id": "i9RuWjjFSTO5",
        "colab_type": "code",
        "colab": {},
        "outputId": "1df63a86-7fb5-4ce1-84ba-fd23606663a6"
      },
      "source": [
        "y_train[0]"
      ],
      "execution_count": 0,
      "outputs": [
        {
          "output_type": "execute_result",
          "data": {
            "text/plain": [
              "array([6], dtype=uint8)"
            ]
          },
          "metadata": {
            "tags": []
          },
          "execution_count": 19
        }
      ]
    },
    {
      "cell_type": "code",
      "metadata": {
        "id": "2X4BT3aWaZFA",
        "colab_type": "code",
        "colab": {
          "base_uri": "https://localhost:8080/",
          "height": 184
        },
        "outputId": "9cb8f558-d99a-423b-9458-192f54231347"
      },
      "source": [
        "y_train[0:10,:]"
      ],
      "execution_count": 50,
      "outputs": [
        {
          "output_type": "execute_result",
          "data": {
            "text/plain": [
              "array([[6],\n",
              "       [9],\n",
              "       [9],\n",
              "       [4],\n",
              "       [1],\n",
              "       [1],\n",
              "       [2],\n",
              "       [7],\n",
              "       [8],\n",
              "       [3]], dtype=uint8)"
            ]
          },
          "metadata": {
            "tags": []
          },
          "execution_count": 50
        }
      ]
    },
    {
      "cell_type": "code",
      "metadata": {
        "id": "L6FT-xkNan-i",
        "colab_type": "code",
        "colab": {
          "base_uri": "https://localhost:8080/",
          "height": 184
        },
        "outputId": "d12dff4c-516f-4b77-8910-c92cbfd05c19"
      },
      "source": [
        "[class_names[i] for i in y_train[0:10,0]]"
      ],
      "execution_count": 51,
      "outputs": [
        {
          "output_type": "execute_result",
          "data": {
            "text/plain": [
              "['frog',\n",
              " 'truck',\n",
              " 'truck',\n",
              " 'deer',\n",
              " 'automobile',\n",
              " 'automobile',\n",
              " 'bird',\n",
              " 'horse',\n",
              " 'ship',\n",
              " 'cat']"
            ]
          },
          "metadata": {
            "tags": []
          },
          "execution_count": 51
        }
      ]
    },
    {
      "cell_type": "code",
      "metadata": {
        "id": "q6tI-VoQSTO8",
        "colab_type": "code",
        "colab": {}
      },
      "source": [
        "# from fast.ai\n",
        "from matplotlib import patches, patheffects\n",
        "def draw_outline(o, lw):\n",
        "    o.set_path_effects([patheffects.Stroke(\n",
        "        linewidth=lw, foreground='black'), patheffects.Normal()])\n",
        "def show_img(im, figsize=None, ax=None):\n",
        "    if not ax: fig,ax = plt.subplots(figsize=figsize)\n",
        "    ax.imshow(im)\n",
        "    ax.get_xaxis().set_visible(False)\n",
        "    ax.get_yaxis().set_visible(False)\n",
        "    return ax\n",
        "def draw_text(ax, xy, txt, sz=14):\n",
        "    text = ax.text(*xy, txt,\n",
        "        verticalalignment='top', color='white', fontsize=sz, weight='bold')\n",
        "    draw_outline(text, 1)"
      ],
      "execution_count": 0,
      "outputs": []
    },
    {
      "cell_type": "code",
      "metadata": {
        "id": "D3J8wNoVSTO-",
        "colab_type": "code",
        "colab": {
          "base_uri": "https://localhost:8080/",
          "height": 572
        },
        "outputId": "139f603c-79d9-40c8-8111-7ad8b04664e7"
      },
      "source": [
        "fig, axes = plt.subplots(5, 5, figsize=(8, 8))\n",
        "for i, ax in enumerate(axes.flat):\n",
        "    img = x_train[i]\n",
        "    label = class_names[y_train[i][0]]\n",
        "    ax = show_img(img, ax=ax)\n",
        "    draw_text(ax, (0,0), label)\n",
        "plt.tight_layout()"
      ],
      "execution_count": 57,
      "outputs": [
        {
          "output_type": "display_data",
          "data": {
            "image/png": "[encoded data removed]",
            "text/plain": [
              "<Figure size 576x576 with 25 Axes>"
            ]
          },
          "metadata": {
            "tags": []
          }
        }
      ]
    },
    {
      "cell_type": "code",
      "metadata": {
        "id": "esGjCMJpdg3J",
        "colab_type": "code",
        "colab": {
          "base_uri": "https://localhost:8080/",
          "height": 286
        },
        "outputId": "f916aac9-7ebd-479f-d1c9-d976f22a9497"
      },
      "source": [
        "plt.imshow(x_train[1])"
      ],
      "execution_count": 61,
      "outputs": [
        {
          "output_type": "execute_result",
          "data": {
            "text/plain": [
              "<matplotlib.image.AxesImage at 0x7f00022edba8>"
            ]
          },
          "metadata": {
            "tags": []
          },
          "execution_count": 61
        },
        {
          "output_type": "display_data",
          "data": {
            "image/png": "[encoded data removed]",
            "text/plain": [
              "<Figure size 432x288 with 1 Axes>"
            ]
          },
          "metadata": {
            "tags": []
          }
        }
      ]
    },
    {
      "cell_type": "code",
      "metadata": {
        "id": "M2Vtv553cXtG",
        "colab_type": "code",
        "colab": {
          "base_uri": "https://localhost:8080/",
          "height": 922
        },
        "outputId": "33565036-2732-402d-9e57-4a173512243a"
      },
      "source": [
        "fig, axes = plt.subplots(5, 5, figsize=(8, 8))\n",
        "axes"
      ],
      "execution_count": 58,
      "outputs": [
        {
          "output_type": "execute_result",
          "data": {
            "text/plain": [
              "array([[<matplotlib.axes._subplots.AxesSubplot object at 0x7f0000999748>,\n",
              "        <matplotlib.axes._subplots.AxesSubplot object at 0x7f00004bb3c8>,\n",
              "        <matplotlib.axes._subplots.AxesSubplot object at 0x7f00004dd5f8>,\n",
              "        <matplotlib.axes._subplots.AxesSubplot object at 0x7f0000481b70>,\n",
              "        <matplotlib.axes._subplots.AxesSubplot object at 0x7f0000432128>],\n",
              "       [<matplotlib.axes._subplots.AxesSubplot object at 0x7f00004596a0>,\n",
              "        <matplotlib.axes._subplots.AxesSubplot object at 0x7f0000403c18>,\n",
              "        <matplotlib.axes._subplots.AxesSubplot object at 0x7f00003b3198>,\n",
              "        <matplotlib.axes._subplots.AxesSubplot object at 0x7f00003d8748>,\n",
              "        <matplotlib.axes._subplots.AxesSubplot object at 0x7f0000383cc0>],\n",
              "       [<matplotlib.axes._subplots.AxesSubplot object at 0x7f0000332278>,\n",
              "        <matplotlib.axes._subplots.AxesSubplot object at 0x7f00003597f0>,\n",
              "        <matplotlib.axes._subplots.AxesSubplot object at 0x7f0000300d68>,\n",
              "        <matplotlib.axes._subplots.AxesSubplot object at 0x7f00002b4320>,\n",
              "        <matplotlib.axes._subplots.AxesSubplot object at 0x7f00002d9898>],\n",
              "       [<matplotlib.axes._subplots.AxesSubplot object at 0x7f0002242cf8>,\n",
              "        <matplotlib.axes._subplots.AxesSubplot object at 0x7f0002290f98>,\n",
              "        <matplotlib.axes._subplots.AxesSubplot object at 0x7f000224bc18>,\n",
              "        <matplotlib.axes._subplots.AxesSubplot object at 0x7f0018a4d320>,\n",
              "        <matplotlib.axes._subplots.AxesSubplot object at 0x7f0002225b38>],\n",
              "       [<matplotlib.axes._subplots.AxesSubplot object at 0x7f0002af60f0>,\n",
              "        <matplotlib.axes._subplots.AxesSubplot object at 0x7f0000290668>,\n",
              "        <matplotlib.axes._subplots.AxesSubplot object at 0x7f000226cbe0>,\n",
              "        <matplotlib.axes._subplots.AxesSubplot object at 0x7f00022d3198>,\n",
              "        <matplotlib.axes._subplots.AxesSubplot object at 0x7f00025ebd30>]],\n",
              "      dtype=object)"
            ]
          },
          "metadata": {
            "tags": []
          },
          "execution_count": 58
        },
        {
          "output_type": "display_data",
          "data": {
            "image/png": "[encoded data removed]",
            "text/plain": [
              "<Figure size 576x576 with 25 Axes>"
            ]
          },
          "metadata": {
            "tags": []
          }
        }
      ]
    },
    {
      "cell_type": "code",
      "metadata": {
        "id": "8NKtSG2wcZVq",
        "colab_type": "code",
        "colab": {}
      },
      "source": [
        ""
      ],
      "execution_count": 0,
      "outputs": []
    }
  ]
}